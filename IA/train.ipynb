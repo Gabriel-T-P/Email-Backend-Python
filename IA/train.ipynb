{
 "cells": [
  {
   "cell_type": "code",
   "execution_count": 44,
   "id": "e21e5c3f-a5a2-496f-8ad0-cc0e31736c7c",
   "metadata": {},
   "outputs": [
    {
     "data": {
      "application/vnd.jupyter.widget-view+json": {
       "model_id": "a861f71e1c9c420aa728472deacddd79",
       "version_major": 2,
       "version_minor": 0
      },
      "text/plain": [
       "Generating train split: 0 examples [00:00, ? examples/s]"
      ]
     },
     "metadata": {},
     "output_type": "display_data"
    },
    {
     "data": {
      "application/vnd.jupyter.widget-view+json": {
       "model_id": "899b94d5604c491fa66b05944d3f4a42",
       "version_major": 2,
       "version_minor": 0
      },
      "text/plain": [
       "Map:   0%|          | 0/688 [00:00<?, ? examples/s]"
      ]
     },
     "metadata": {},
     "output_type": "display_data"
    },
    {
     "data": {
      "application/vnd.jupyter.widget-view+json": {
       "model_id": "f375eca91af34cfe822bd5080eb79d06",
       "version_major": 2,
       "version_minor": 0
      },
      "text/plain": [
       "Map:   0%|          | 0/172 [00:00<?, ? examples/s]"
      ]
     },
     "metadata": {},
     "output_type": "display_data"
    }
   ],
   "source": [
    "from datasets import load_dataset, Dataset\n",
    "from sklearn.model_selection import train_test_split\n",
    "from transformers import AutoTokenizer, AutoModelForSequenceClassification\n",
    "from transformers import Trainer, TrainingArguments, DataCollatorWithPadding\n",
    "import torch\n",
    "\n",
    "# Configurações \n",
    "device = \"cpu\"\n",
    "model_name = \"neuralmind/bert-base-portuguese-cased\"\n",
    "csv_file = \"dataset.csv\"\n",
    "\n",
    "# Carregar dataset\n",
    "dataset = load_dataset(\"csv\", data_files=csv_file)['train']\n",
    "\n",
    "# Converter colunas para listas\n",
    "texts = list(dataset['text'])\n",
    "labels = list(dataset['label'])\n",
    "\n",
    "# Separar treino e validação\n",
    "train_texts, val_texts, train_labels, val_labels = train_test_split(\n",
    "    texts,\n",
    "    labels,\n",
    "    test_size=0.2,\n",
    "    random_state=42\n",
    ")\n",
    "\n",
    "# Criar Dataset Hugging Face\n",
    "train_dataset = Dataset.from_dict({\"text\": train_texts, \"label\": train_labels})\n",
    "val_dataset = Dataset.from_dict({\"text\": val_texts, \"label\": val_labels})\n",
    "\n",
    "label_map = {\"improdutivo\": 0, \"produtivo\": 1}\n",
    "\n",
    "def encode_labels(batch):\n",
    "    batch[\"label\"] = label_map[batch[\"label\"]]\n",
    "    return batch\n",
    "\n",
    "train_dataset = train_dataset.map(encode_labels)\n",
    "val_dataset = val_dataset.map(encode_labels)"
   ]
  },
  {
   "cell_type": "code",
   "execution_count": 45,
   "id": "d01acf47-bc7e-4193-832a-480a47f0d3a4",
   "metadata": {},
   "outputs": [
    {
     "data": {
      "application/vnd.jupyter.widget-view+json": {
       "model_id": "4643f4e23a9748e8ba8c1e686a108af8",
       "version_major": 2,
       "version_minor": 0
      },
      "text/plain": [
       "Map:   0%|          | 0/688 [00:00<?, ? examples/s]"
      ]
     },
     "metadata": {},
     "output_type": "display_data"
    },
    {
     "data": {
      "application/vnd.jupyter.widget-view+json": {
       "model_id": "cbdf1f82f5d1429697d5fa16208edc5e",
       "version_major": 2,
       "version_minor": 0
      },
      "text/plain": [
       "Map:   0%|          | 0/172 [00:00<?, ? examples/s]"
      ]
     },
     "metadata": {},
     "output_type": "display_data"
    }
   ],
   "source": [
    "# Tokenização\n",
    "tokenizer = AutoTokenizer.from_pretrained(model_name)\n",
    "\n",
    "def tokenize(batch):\n",
    "    return tokenizer(batch['text'], padding=True, truncation=True, max_length=128)\n",
    "\n",
    "train_dataset = train_dataset.map(tokenize, batched=True)\n",
    "val_dataset = val_dataset.map(tokenize, batched=True)"
   ]
  },
  {
   "cell_type": "code",
   "execution_count": 46,
   "id": "3f21b975-84ef-4a68-b67d-a4725ae973b4",
   "metadata": {},
   "outputs": [
    {
     "name": "stderr",
     "output_type": "stream",
     "text": [
      "Some weights of BertForSequenceClassification were not initialized from the model checkpoint at neuralmind/bert-base-portuguese-cased and are newly initialized: ['classifier.bias', 'classifier.weight']\n",
      "You should probably TRAIN this model on a down-stream task to be able to use it for predictions and inference.\n"
     ]
    }
   ],
   "source": [
    "# Preparar modelo para classificação\n",
    "model = AutoModelForSequenceClassification.from_pretrained(\n",
    "    model_name,\n",
    "    num_labels=2,\n",
    "    id2label={0: \"improdutivo\", 1: \"produtivo\"},\n",
    "    label2id={\"improdutivo\": 0, \"produtivo\": 1}\n",
    ")\n",
    "\n",
    "# Data collator\n",
    "data_collator = DataCollatorWithPadding(tokenizer=tokenizer)"
   ]
  },
  {
   "cell_type": "code",
   "execution_count": 47,
   "id": "d9d88ac2-a219-498e-8f39-22996b5125da",
   "metadata": {},
   "outputs": [
    {
     "data": {
      "text/html": [
       "\n",
       "    <div>\n",
       "      \n",
       "      <progress value='258' max='258' style='width:300px; height:20px; vertical-align: middle;'></progress>\n",
       "      [258/258 15:45, Epoch 3/3]\n",
       "    </div>\n",
       "    <table border=\"1\" class=\"dataframe\">\n",
       "  <thead>\n",
       " <tr style=\"text-align: left;\">\n",
       "      <th>Epoch</th>\n",
       "      <th>Training Loss</th>\n",
       "      <th>Validation Loss</th>\n",
       "    </tr>\n",
       "  </thead>\n",
       "  <tbody>\n",
       "    <tr>\n",
       "      <td>1</td>\n",
       "      <td>0.123400</td>\n",
       "      <td>0.252836</td>\n",
       "    </tr>\n",
       "    <tr>\n",
       "      <td>2</td>\n",
       "      <td>0.081100</td>\n",
       "      <td>0.217498</td>\n",
       "    </tr>\n",
       "    <tr>\n",
       "      <td>3</td>\n",
       "      <td>0.000900</td>\n",
       "      <td>0.263434</td>\n",
       "    </tr>\n",
       "  </tbody>\n",
       "</table><p>"
      ],
      "text/plain": [
       "<IPython.core.display.HTML object>"
      ]
     },
     "metadata": {},
     "output_type": "display_data"
    },
    {
     "data": {
      "text/plain": [
       "TrainOutput(global_step=258, training_loss=0.11281332519815065, metrics={'train_runtime': 1174.1942, 'train_samples_per_second': 1.758, 'train_steps_per_second': 0.22, 'total_flos': 56215321421760.0, 'train_loss': 0.11281332519815065, 'epoch': 3.0})"
      ]
     },
     "execution_count": 47,
     "metadata": {},
     "output_type": "execute_result"
    }
   ],
   "source": [
    "# Treinamento\n",
    "training_args = TrainingArguments(\n",
    "    output_dir=\"./results\",\n",
    "    num_train_epochs=3,\n",
    "    per_device_train_batch_size=8,\n",
    "    per_device_eval_batch_size=8,\n",
    "    eval_strategy=\"epoch\",\n",
    "    save_strategy=\"epoch\",\n",
    "    logging_dir=\"./logs\",\n",
    "    logging_steps=10,\n",
    "    load_best_model_at_end=True,\n",
    "    use_cpu=True\n",
    ")\n",
    "\n",
    "trainer = Trainer(\n",
    "    model=model,\n",
    "    args=training_args,\n",
    "    train_dataset=train_dataset,\n",
    "    eval_dataset=val_dataset,\n",
    "    data_collator=data_collator\n",
    ")\n",
    "\n",
    "trainer.train()"
   ]
  },
  {
   "cell_type": "code",
   "execution_count": 2,
   "id": "93e848ed-d9de-453b-a503-20fbec40ba66",
   "metadata": {},
   "outputs": [
    {
     "ename": "NameError",
     "evalue": "name 'model' is not defined",
     "output_type": "error",
     "traceback": [
      "\u001b[31m---------------------------------------------------------------------------\u001b[39m",
      "\u001b[31mNameError\u001b[39m                                 Traceback (most recent call last)",
      "\u001b[36mCell\u001b[39m\u001b[36m \u001b[39m\u001b[32mIn[2]\u001b[39m\u001b[32m, line 6\u001b[39m\n\u001b[32m      1\u001b[39m \u001b[38;5;28;01mfrom\u001b[39;00m\u001b[38;5;250m \u001b[39m\u001b[34;01mtransformers\u001b[39;00m\u001b[38;5;250m \u001b[39m\u001b[38;5;28;01mimport\u001b[39;00m pipeline\n\u001b[32m      3\u001b[39m \u001b[38;5;66;03m# Avaliação com pipeline\u001b[39;00m\n\u001b[32m      4\u001b[39m clf_pipeline = pipeline(\n\u001b[32m      5\u001b[39m     task=\u001b[33m\"\u001b[39m\u001b[33mtext-classification\u001b[39m\u001b[33m\"\u001b[39m,\n\u001b[32m----> \u001b[39m\u001b[32m6\u001b[39m     model=\u001b[43mmodel\u001b[49m,\n\u001b[32m      7\u001b[39m     tokenizer=tokenizer,\n\u001b[32m      8\u001b[39m     device=\u001b[33m\"\u001b[39m\u001b[33mcpu\u001b[39m\u001b[33m\"\u001b[39m\n\u001b[32m      9\u001b[39m )\n\u001b[32m     11\u001b[39m \u001b[38;5;66;03m# Teste\u001b[39;00m\n\u001b[32m     12\u001b[39m \u001b[38;5;28mprint\u001b[39m(clf_pipeline(\u001b[33m\"\u001b[39m\u001b[33mPreciso de uma explicação do seu documento.\u001b[39m\u001b[33m\"\u001b[39m))\n",
      "\u001b[31mNameError\u001b[39m: name 'model' is not defined"
     ]
    }
   ],
   "source": [
    "from transformers import pipeline\n",
    "\n",
    "# Avaliação com pipeline\n",
    "clf_pipeline = pipeline(\n",
    "    task=\"text-classification\",\n",
    "    model=model,\n",
    "    tokenizer=tokenizer,\n",
    "    device=\"cpu\"\n",
    ")\n",
    "\n",
    "# Teste\n",
    "print(clf_pipeline(\"Preciso de uma explicação do seu documento.\"))"
   ]
  },
  {
   "cell_type": "code",
   "execution_count": 49,
   "id": "fd285980-c80f-4f68-b69b-d76825983bc7",
   "metadata": {},
   "outputs": [
    {
     "name": "stdout",
     "output_type": "stream",
     "text": [
      "Acurácia: 0.9477\n",
      "F1-score: 0.9581\n",
      "Matriz de Confusão:\n",
      "[[ 60   5]\n",
      " [  4 103]]\n",
      "\n",
      "Relatório Completo:\n",
      "              precision    recall  f1-score   support\n",
      "\n",
      " improdutivo       0.94      0.92      0.93        65\n",
      "   produtivo       0.95      0.96      0.96       107\n",
      "\n",
      "    accuracy                           0.95       172\n",
      "   macro avg       0.95      0.94      0.94       172\n",
      "weighted avg       0.95      0.95      0.95       172\n",
      "\n"
     ]
    }
   ],
   "source": [
    "from sklearn.metrics import accuracy_score, f1_score, confusion_matrix, classification_report\n",
    "\n",
    "# Prever no dataset de validação\n",
    "val_texts_list = list(val_dataset['text'])\n",
    "val_labels_list = list(val_dataset['label'])\n",
    "\n",
    "# pipeline já treinado\n",
    "predictions = clf_pipeline(val_texts_list, batch_size=8)\n",
    "\n",
    "# Extrair apenas os labels previstos\n",
    "pred_labels = [label_map[p['label']] if p['label'] in label_map else int(p['label'].split(\"_\")[-1]) for p in predictions]\n",
    "\n",
    "# Métricas\n",
    "acc = accuracy_score(val_labels_list, pred_labels)\n",
    "f1 = f1_score(val_labels_list, pred_labels)\n",
    "cm = confusion_matrix(val_labels_list, pred_labels)\n",
    "report = classification_report(val_labels_list, pred_labels, target_names=[\"improdutivo\", \"produtivo\"])\n",
    "\n",
    "print(f\"Acurácia: {acc:.4f}\")\n",
    "print(f\"F1-score: {f1:.4f}\")\n",
    "print(\"Matriz de Confusão:\")\n",
    "print(cm)\n",
    "print(\"\\nRelatório Completo:\")\n",
    "print(report)"
   ]
  },
  {
   "cell_type": "code",
   "execution_count": 3,
   "id": "37cee265-3334-473a-8172-c861718c5925",
   "metadata": {},
   "outputs": [
    {
     "data": {
      "text/plain": [
       "('saved_model/tokenizer_config.json',\n",
       " 'saved_model/special_tokens_map.json',\n",
       " 'saved_model/vocab.txt',\n",
       " 'saved_model/added_tokens.json',\n",
       " 'saved_model/tokenizer.json')"
      ]
     },
     "execution_count": 3,
     "metadata": {},
     "output_type": "execute_result"
    }
   ],
   "source": [
    "# salvar modelo\n",
    "model.config.id2label = {0: \"improdutivo\", 1: \"produtivo\"}\n",
    "model.config.label2id = {\"improdutivo\": 0, \"produtivo\": 1}\n",
    "\n",
    "model.save_pretrained(\"models/saved_model\")\n",
    "tokenizer.save_pretrained(\"models/saved_model\")"
   ]
  },
  {
   "cell_type": "code",
   "execution_count": null,
   "id": "c0658c97-a111-46cb-b004-35ab7db674d2",
   "metadata": {},
   "outputs": [],
   "source": []
  }
 ],
 "metadata": {
  "kernelspec": {
   "display_name": "Python 3 (ipykernel)",
   "language": "python",
   "name": "python3"
  },
  "language_info": {
   "codemirror_mode": {
    "name": "ipython",
    "version": 3
   },
   "file_extension": ".py",
   "mimetype": "text/x-python",
   "name": "python",
   "nbconvert_exporter": "python",
   "pygments_lexer": "ipython3",
   "version": "3.12.3"
  }
 },
 "nbformat": 4,
 "nbformat_minor": 5
}
